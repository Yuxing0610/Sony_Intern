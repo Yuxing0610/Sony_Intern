{
 "cells": [
  {
   "cell_type": "markdown",
   "metadata": {},
   "source": [
    "## BNN + forward-mode autodiff + Memory augmented optimizr + Genetic Algorithm\n",
    "\n",
    "- First use GA to give the neural network a good initialization\n",
    "- use forward-mode autodiff and clipping to allow training with larger learning rate\n",
    "- 2 ways to generate random vectors, one with aligned memory augmented optimizer, one with Meta-model (RNN)\n",
    "- update the neural network (naive method or Learning method)"
   ]
  }
 ],
 "metadata": {
  "kernelspec": {
   "display_name": "Python 3.9.12 ('test_env': conda)",
   "language": "python",
   "name": "python3"
  },
  "language_info": {
   "name": "python",
   "version": "3.9.12"
  },
  "orig_nbformat": 4,
  "vscode": {
   "interpreter": {
    "hash": "3740b4c8389f643b958801bf28dfaa46be3508a87b50265337019eadb57ea2b9"
   }
  }
 },
 "nbformat": 4,
 "nbformat_minor": 2
}
